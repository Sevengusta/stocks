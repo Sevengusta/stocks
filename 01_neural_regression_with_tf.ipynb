{
 "cells": [
  {
   "cell_type": "code",
   "execution_count": 93,
   "metadata": {},
   "outputs": [],
   "source": [
    "import tensorflow as tf\n",
    "from tensorflow.keras.models import Sequential\n",
    "from tensorflow.keras.optimizers import Adam\n",
    "from tensorflow.keras import layers\n",
    "from tensorflow.keras.utils import plot_model\n",
    "import numpy as np"
   ]
  },
  {
   "cell_type": "markdown",
   "metadata": {},
   "source": [
    "**learning about regresion**: Part 1\n",
    "- Creating a model\n",
    "- Compilling a model\n",
    "- fitting a model\n",
    "- evaluating a model"
   ]
  },
  {
   "cell_type": "code",
   "execution_count": 94,
   "metadata": {},
   "outputs": [
    {
     "data": {
      "text/plain": [
       "(<tf.Tensor: shape=(40,), dtype=float32, numpy=\n",
       " array([-100.,  -96.,  -92.,  -88.,  -84.,  -80.,  -76.,  -72.,  -68.,\n",
       "         -64.,  -60.,  -56.,  -52.,  -48.,  -44.,  -40.,  -36.,  -32.,\n",
       "         -28.,  -24.,  -20.,  -16.,  -12.,   -8.,   -4.,    0.,    4.,\n",
       "           8.,   12.,   16.,   20.,   24.,   28.,   32.,   36.,   40.,\n",
       "          44.,   48.,   52.,   56.], dtype=float32)>,\n",
       " <tf.Tensor: shape=(40,), dtype=float32, numpy=\n",
       " array([-90., -86., -82., -78., -74., -70., -66., -62., -58., -54., -50.,\n",
       "        -46., -42., -38., -34., -30., -26., -22., -18., -14., -10.,  -6.,\n",
       "         -2.,   2.,   6.,  10.,  14.,  18.,  22.,  26.,  30.,  34.,  38.,\n",
       "         42.,  46.,  50.,  54.,  58.,  62.,  66.], dtype=float32)>,\n",
       " <tf.Tensor: shape=(10,), dtype=float32, numpy=array([60., 64., 68., 72., 76., 80., 84., 88., 92., 96.], dtype=float32)>,\n",
       " <tf.Tensor: shape=(10,), dtype=float32, numpy=\n",
       " array([ 70.,  74.,  78.,  82.,  86.,  90.,  94.,  98., 102., 106.],\n",
       "       dtype=float32)>)"
      ]
     },
     "execution_count": 94,
     "metadata": {},
     "output_type": "execute_result"
    }
   ],
   "source": [
    "X = tf.range(-100, 100, 4, dtype=tf.float32)\n",
    "y = tf.range(-90, 110, 4, dtype=tf.float32)\n",
    "X_train = X[:40]\n",
    "y_train = y[:40]\n",
    "X_test = X[40:]\n",
    "y_test = y[40:]\n",
    "\n",
    "X_train, y_train, X_test, y_test"
   ]
  },
  {
   "cell_type": "code",
   "execution_count": 95,
   "metadata": {},
   "outputs": [],
   "source": [
    "tf.random.set_seed(42)\n",
    "\n",
    "model = Sequential([\n",
    "    layers.Input(1),\n",
    "    layers.Dense(10),\n",
    "    layers.Dense(1, name='Output'),\n",
    "], name='model_01')\n",
    "model.compile(\n",
    "    loss=tf.keras.losses.mae,\n",
    "    optimizer=Adam(learning_rate=0.01),\n",
    "    metrics=['mse']\n",
    ")\n"
   ]
  },
  {
   "cell_type": "code",
   "execution_count": 96,
   "metadata": {},
   "outputs": [
    {
     "name": "stdout",
     "output_type": "stream",
     "text": [
      "Epoch 1/100\n"
     ]
    },
    {
     "name": "stdout",
     "output_type": "stream",
     "text": [
      "2/2 [==============================] - 1s 10ms/step - loss: 51.4496 - mse: 3628.4265\n",
      "Epoch 2/100\n",
      "2/2 [==============================] - 0s 9ms/step - loss: 44.8382 - mse: 2752.3926\n",
      "Epoch 3/100\n",
      "2/2 [==============================] - 0s 8ms/step - loss: 38.5528 - mse: 2018.9156\n",
      "Epoch 4/100\n",
      "2/2 [==============================] - 0s 8ms/step - loss: 32.1815 - mse: 1400.4679\n",
      "Epoch 5/100\n",
      "2/2 [==============================] - 0s 11ms/step - loss: 26.0499 - mse: 917.9159\n",
      "Epoch 6/100\n",
      "2/2 [==============================] - 0s 5ms/step - loss: 19.9977 - mse: 540.3895\n",
      "Epoch 7/100\n",
      "2/2 [==============================] - 0s 10ms/step - loss: 14.2289 - mse: 270.4530\n",
      "Epoch 8/100\n",
      "2/2 [==============================] - 0s 12ms/step - loss: 8.7698 - mse: 119.8824\n",
      "Epoch 9/100\n",
      "2/2 [==============================] - 0s 11ms/step - loss: 8.6886 - mse: 83.9573\n",
      "Epoch 10/100\n",
      "2/2 [==============================] - 0s 10ms/step - loss: 10.9991 - mse: 125.7141\n",
      "Epoch 11/100\n",
      "2/2 [==============================] - 0s 9ms/step - loss: 12.8604 - mse: 195.3733\n",
      "Epoch 12/100\n",
      "2/2 [==============================] - 0s 14ms/step - loss: 13.4041 - mse: 229.0215\n",
      "Epoch 13/100\n",
      "2/2 [==============================] - 0s 13ms/step - loss: 13.3085 - mse: 226.0639\n",
      "Epoch 14/100\n",
      "2/2 [==============================] - 0s 13ms/step - loss: 12.6954 - mse: 195.8365\n",
      "Epoch 15/100\n",
      "2/2 [==============================] - 0s 10ms/step - loss: 11.7085 - mse: 152.8866\n",
      "Epoch 16/100\n",
      "2/2 [==============================] - 0s 19ms/step - loss: 10.3464 - mse: 109.4061\n",
      "Epoch 17/100\n",
      "2/2 [==============================] - 0s 53ms/step - loss: 9.0950 - mse: 85.9327\n",
      "Epoch 18/100\n",
      "2/2 [==============================] - 0s 10ms/step - loss: 7.3728 - mse: 73.6347\n",
      "Epoch 19/100\n",
      "2/2 [==============================] - 0s 9ms/step - loss: 7.7020 - mse: 88.3352\n",
      "Epoch 20/100\n",
      "2/2 [==============================] - 0s 12ms/step - loss: 8.6130 - mse: 106.6335\n",
      "Epoch 21/100\n",
      "2/2 [==============================] - 0s 12ms/step - loss: 8.7628 - mse: 109.8876\n",
      "Epoch 22/100\n",
      "2/2 [==============================] - 0s 12ms/step - loss: 8.1332 - mse: 95.8306\n",
      "Epoch 23/100\n",
      "2/2 [==============================] - 0s 14ms/step - loss: 7.3118 - mse: 79.5756\n",
      "Epoch 24/100\n",
      "2/2 [==============================] - 0s 9ms/step - loss: 7.0299 - mse: 68.9062\n",
      "Epoch 25/100\n",
      "2/2 [==============================] - 0s 8ms/step - loss: 7.2098 - mse: 67.0876\n",
      "Epoch 26/100\n",
      "2/2 [==============================] - 0s 19ms/step - loss: 6.9261 - mse: 66.8974\n",
      "Epoch 27/100\n",
      "2/2 [==============================] - 0s 11ms/step - loss: 6.8396 - mse: 69.6953\n",
      "Epoch 28/100\n",
      "2/2 [==============================] - 0s 23ms/step - loss: 6.9514 - mse: 72.5399\n",
      "Epoch 29/100\n",
      "2/2 [==============================] - 0s 13ms/step - loss: 6.9522 - mse: 72.4365\n",
      "Epoch 30/100\n",
      "2/2 [==============================] - 0s 30ms/step - loss: 6.7679 - mse: 68.9984\n",
      "Epoch 31/100\n",
      "2/2 [==============================] - 0s 20ms/step - loss: 6.6391 - mse: 63.9239\n",
      "Epoch 32/100\n",
      "2/2 [==============================] - 0s 9ms/step - loss: 6.6493 - mse: 60.6302\n",
      "Epoch 33/100\n",
      "2/2 [==============================] - 0s 9ms/step - loss: 6.5080 - mse: 60.1531\n",
      "Epoch 34/100\n",
      "2/2 [==============================] - 0s 11ms/step - loss: 6.4298 - mse: 61.8971\n",
      "Epoch 35/100\n",
      "2/2 [==============================] - 0s 10ms/step - loss: 6.5318 - mse: 64.1020\n",
      "Epoch 36/100\n",
      "2/2 [==============================] - 0s 8ms/step - loss: 6.5992 - mse: 65.1957\n",
      "Epoch 37/100\n",
      "2/2 [==============================] - 0s 9ms/step - loss: 6.4557 - mse: 62.3110\n",
      "Epoch 38/100\n",
      "2/2 [==============================] - 0s 12ms/step - loss: 6.2228 - mse: 58.1194\n",
      "Epoch 39/100\n",
      "2/2 [==============================] - 0s 34ms/step - loss: 6.2193 - mse: 54.1434\n",
      "Epoch 40/100\n",
      "2/2 [==============================] - 0s 10ms/step - loss: 6.1850 - mse: 52.4175\n",
      "Epoch 41/100\n",
      "2/2 [==============================] - 0s 14ms/step - loss: 6.0182 - mse: 53.4863\n",
      "Epoch 42/100\n",
      "2/2 [==============================] - 0s 17ms/step - loss: 6.0156 - mse: 54.1036\n",
      "Epoch 43/100\n",
      "2/2 [==============================] - 0s 13ms/step - loss: 5.9814 - mse: 53.6138\n",
      "Epoch 44/100\n",
      "2/2 [==============================] - 0s 19ms/step - loss: 5.9223 - mse: 51.6278\n",
      "Epoch 45/100\n",
      "2/2 [==============================] - 0s 15ms/step - loss: 5.7870 - mse: 49.4286\n",
      "Epoch 46/100\n",
      "2/2 [==============================] - 0s 40ms/step - loss: 5.7257 - mse: 48.7693\n",
      "Epoch 47/100\n",
      "2/2 [==============================] - 0s 31ms/step - loss: 5.7038 - mse: 48.6769\n",
      "Epoch 48/100\n",
      "2/2 [==============================] - 0s 10ms/step - loss: 5.6493 - mse: 47.5903\n",
      "Epoch 49/100\n",
      "2/2 [==============================] - 0s 15ms/step - loss: 5.5432 - mse: 45.7225\n",
      "Epoch 50/100\n",
      "2/2 [==============================] - 0s 12ms/step - loss: 5.4408 - mse: 43.4799\n",
      "Epoch 51/100\n",
      "2/2 [==============================] - 0s 11ms/step - loss: 5.3694 - mse: 42.1017\n",
      "Epoch 52/100\n",
      "2/2 [==============================] - 0s 12ms/step - loss: 5.3566 - mse: 40.6144\n",
      "Epoch 53/100\n",
      "2/2 [==============================] - 0s 10ms/step - loss: 5.1967 - mse: 39.7749\n",
      "Epoch 54/100\n",
      "2/2 [==============================] - 0s 14ms/step - loss: 5.2895 - mse: 41.6886\n",
      "Epoch 55/100\n",
      "2/2 [==============================] - 0s 13ms/step - loss: 5.1611 - mse: 40.1251\n",
      "Epoch 56/100\n",
      "2/2 [==============================] - 0s 10ms/step - loss: 5.0048 - mse: 36.4495\n",
      "Epoch 57/100\n",
      "2/2 [==============================] - 0s 10ms/step - loss: 5.0492 - mse: 34.7047\n",
      "Epoch 58/100\n",
      "2/2 [==============================] - 0s 11ms/step - loss: 4.9465 - mse: 33.7409\n",
      "Epoch 59/100\n",
      "2/2 [==============================] - 0s 10ms/step - loss: 4.7921 - mse: 34.0867\n",
      "Epoch 60/100\n",
      "2/2 [==============================] - 0s 15ms/step - loss: 4.8599 - mse: 35.3811\n",
      "Epoch 61/100\n",
      "2/2 [==============================] - 0s 11ms/step - loss: 4.7937 - mse: 34.2384\n",
      "Epoch 62/100\n",
      "2/2 [==============================] - 0s 35ms/step - loss: 4.5777 - mse: 30.9723\n",
      "Epoch 63/100\n",
      "2/2 [==============================] - 0s 13ms/step - loss: 4.6037 - mse: 28.6680\n",
      "Epoch 64/100\n",
      "2/2 [==============================] - 0s 13ms/step - loss: 4.4769 - mse: 28.5075\n",
      "Epoch 65/100\n",
      "2/2 [==============================] - 0s 10ms/step - loss: 4.4190 - mse: 29.3009\n",
      "Epoch 66/100\n",
      "2/2 [==============================] - 0s 17ms/step - loss: 4.2706 - mse: 27.0456\n",
      "Epoch 67/100\n",
      "2/2 [==============================] - 0s 28ms/step - loss: 4.2274 - mse: 24.6287\n",
      "Epoch 68/100\n",
      "2/2 [==============================] - 0s 19ms/step - loss: 4.0750 - mse: 23.6521\n",
      "Epoch 69/100\n",
      "2/2 [==============================] - 0s 14ms/step - loss: 4.0379 - mse: 24.4457\n",
      "Epoch 70/100\n",
      "2/2 [==============================] - 0s 12ms/step - loss: 3.9734 - mse: 23.7037\n",
      "Epoch 71/100\n",
      "2/2 [==============================] - 0s 13ms/step - loss: 3.7951 - mse: 20.5287\n",
      "Epoch 72/100\n",
      "2/2 [==============================] - 0s 10ms/step - loss: 3.8998 - mse: 19.3285\n",
      "Epoch 73/100\n",
      "2/2 [==============================] - 0s 10ms/step - loss: 3.6889 - mse: 20.0461\n",
      "Epoch 74/100\n",
      "2/2 [==============================] - 0s 11ms/step - loss: 3.5771 - mse: 18.6927\n",
      "Epoch 75/100\n",
      "2/2 [==============================] - 0s 15ms/step - loss: 3.4603 - mse: 16.5107\n",
      "Epoch 76/100\n",
      "2/2 [==============================] - 0s 16ms/step - loss: 3.3153 - mse: 15.9996\n",
      "Epoch 77/100\n",
      "2/2 [==============================] - 0s 29ms/step - loss: 3.2455 - mse: 15.5567\n",
      "Epoch 78/100\n",
      "2/2 [==============================] - 0s 12ms/step - loss: 3.1349 - mse: 14.7114\n",
      "Epoch 79/100\n",
      "2/2 [==============================] - 0s 20ms/step - loss: 2.9755 - mse: 13.1941\n",
      "Epoch 80/100\n",
      "2/2 [==============================] - 0s 12ms/step - loss: 2.9332 - mse: 11.7587\n",
      "Epoch 81/100\n",
      "2/2 [==============================] - 0s 21ms/step - loss: 2.7919 - mse: 11.6943\n",
      "Epoch 82/100\n",
      "2/2 [==============================] - 0s 16ms/step - loss: 2.7605 - mse: 11.3746\n",
      "Epoch 83/100\n",
      "2/2 [==============================] - 0s 19ms/step - loss: 2.5686 - mse: 9.2469\n",
      "Epoch 84/100\n",
      "2/2 [==============================] - 0s 28ms/step - loss: 2.5536 - mse: 8.3311\n",
      "Epoch 85/100\n",
      "2/2 [==============================] - 0s 15ms/step - loss: 2.2982 - mse: 7.4928\n",
      "Epoch 86/100\n",
      "2/2 [==============================] - 0s 12ms/step - loss: 2.3320 - mse: 7.9136\n",
      "Epoch 87/100\n",
      "2/2 [==============================] - 0s 14ms/step - loss: 2.0131 - mse: 6.0836\n",
      "Epoch 88/100\n",
      "2/2 [==============================] - 0s 15ms/step - loss: 1.9946 - mse: 5.2072\n",
      "Epoch 89/100\n",
      "2/2 [==============================] - 0s 22ms/step - loss: 1.7906 - mse: 4.8010\n",
      "Epoch 90/100\n",
      "2/2 [==============================] - 0s 15ms/step - loss: 1.7181 - mse: 3.8316\n",
      "Epoch 91/100\n",
      "2/2 [==============================] - 0s 12ms/step - loss: 1.6007 - mse: 3.8305\n",
      "Epoch 92/100\n",
      "2/2 [==============================] - 0s 15ms/step - loss: 1.4148 - mse: 2.7554\n",
      "Epoch 93/100\n",
      "2/2 [==============================] - 0s 11ms/step - loss: 1.3931 - mse: 2.1715\n",
      "Epoch 94/100\n",
      "2/2 [==============================] - 0s 13ms/step - loss: 1.5359 - mse: 3.2573\n",
      "Epoch 95/100\n",
      "2/2 [==============================] - 0s 14ms/step - loss: 1.1505 - mse: 1.7479\n",
      "Epoch 96/100\n",
      "2/2 [==============================] - 0s 18ms/step - loss: 1.5011 - mse: 3.1208\n",
      "Epoch 97/100\n",
      "2/2 [==============================] - 0s 13ms/step - loss: 1.0426 - mse: 1.2833\n",
      "Epoch 98/100\n",
      "2/2 [==============================] - 0s 11ms/step - loss: 1.2661 - mse: 2.1326\n",
      "Epoch 99/100\n",
      "2/2 [==============================] - 0s 13ms/step - loss: 0.5788 - mse: 0.5783\n",
      "Epoch 100/100\n",
      "2/2 [==============================] - 0s 11ms/step - loss: 0.8194 - mse: 1.0994\n"
     ]
    },
    {
     "data": {
      "text/plain": [
       "<keras.src.callbacks.History at 0x290b3956f90>"
      ]
     },
     "execution_count": 96,
     "metadata": {},
     "output_type": "execute_result"
    }
   ],
   "source": [
    "model.fit(X_train, y_train, epochs=100, verbose=1)"
   ]
  },
  {
   "cell_type": "code",
   "execution_count": 97,
   "metadata": {},
   "outputs": [
    {
     "name": "stdout",
     "output_type": "stream",
     "text": [
      "WARNING:tensorflow:6 out of the last 11 calls to <function Model.make_predict_function.<locals>.predict_function at 0x00000290B53B9080> triggered tf.function retracing. Tracing is expensive and the excessive number of tracings could be due to (1) creating @tf.function repeatedly in a loop, (2) passing tensors with different shapes, (3) passing Python objects instead of tensors. For (1), please define your @tf.function outside of the loop. For (2), @tf.function has reduce_retracing=True option that can avoid unnecessary retracing. For (3), please refer to https://www.tensorflow.org/guide/function#controlling_retracing and https://www.tensorflow.org/api_docs/python/tf/function for  more details.\n",
      "1/1 [==============================] - 0s 306ms/step\n"
     ]
    },
    {
     "data": {
      "text/plain": [
       "array([[ 68.414734],\n",
       "       [ 72.3249  ],\n",
       "       [ 76.23506 ],\n",
       "       [ 80.14523 ],\n",
       "       [ 84.05539 ],\n",
       "       [ 87.96555 ],\n",
       "       [ 91.87572 ],\n",
       "       [ 95.78589 ],\n",
       "       [ 99.69605 ],\n",
       "       [103.60622 ]], dtype=float32)"
      ]
     },
     "execution_count": 97,
     "metadata": {},
     "output_type": "execute_result"
    }
   ],
   "source": [
    "y_pred = model.predict(X_test)\n",
    "y_pred"
   ]
  },
  {
   "cell_type": "code",
   "execution_count": 98,
   "metadata": {},
   "outputs": [
    {
     "name": "stdout",
     "output_type": "stream",
     "text": [
      "Model: \"model_01\"\n",
      "_________________________________________________________________\n",
      " Layer (type)                Output Shape              Param #   \n",
      "=================================================================\n",
      " dense_3 (Dense)             (None, 10)                20        \n",
      "                                                                 \n",
      " Output (Dense)              (None, 1)                 11        \n",
      "                                                                 \n",
      "=================================================================\n",
      "Total params: 31 (124.00 Byte)\n",
      "Trainable params: 31 (124.00 Byte)\n",
      "Non-trainable params: 0 (0.00 Byte)\n",
      "_________________________________________________________________\n"
     ]
    }
   ],
   "source": [
    "model.summary()"
   ]
  },
  {
   "cell_type": "code",
   "execution_count": 99,
   "metadata": {},
   "outputs": [
    {
     "name": "stdout",
     "output_type": "stream",
     "text": [
      "1/1 [==============================] - 0s 74ms/step\n"
     ]
    },
    {
     "data": {
      "text/plain": [
       "(array([[ 68.414734],\n",
       "        [ 72.3249  ],\n",
       "        [ 76.23506 ],\n",
       "        [ 80.14523 ],\n",
       "        [ 84.05539 ],\n",
       "        [ 87.96555 ],\n",
       "        [ 91.87572 ],\n",
       "        [ 95.78589 ],\n",
       "        [ 99.69605 ],\n",
       "        [103.60622 ]], dtype=float32),\n",
       " <tf.Tensor: shape=(10,), dtype=float32, numpy=\n",
       " array([ 70.,  74.,  78.,  82.,  86.,  90.,  94.,  98., 102., 106.],\n",
       "       dtype=float32)>)"
      ]
     },
     "execution_count": 99,
     "metadata": {},
     "output_type": "execute_result"
    }
   ],
   "source": [
    "y_pred = model.predict(X_test)\n",
    "y_pred, y_test\n"
   ]
  },
  {
   "cell_type": "code",
   "execution_count": 100,
   "metadata": {},
   "outputs": [
    {
     "name": "stdout",
     "output_type": "stream",
     "text": [
      "WARNING:tensorflow:6 out of the last 6 calls to <function Model.make_test_function.<locals>.test_function at 0x00000290B53BBBA0> triggered tf.function retracing. Tracing is expensive and the excessive number of tracings could be due to (1) creating @tf.function repeatedly in a loop, (2) passing tensors with different shapes, (3) passing Python objects instead of tensors. For (1), please define your @tf.function outside of the loop. For (2), @tf.function has reduce_retracing=True option that can avoid unnecessary retracing. For (3), please refer to https://www.tensorflow.org/guide/function#controlling_retracing and https://www.tensorflow.org/api_docs/python/tf/function for  more details.\n",
      "1/1 [==============================] - 0s 336ms/step - loss: 1.9895 - mse: 4.0248\n"
     ]
    },
    {
     "data": {
      "text/plain": [
       "[1.989525556564331, 4.024792671203613]"
      ]
     },
     "execution_count": 100,
     "metadata": {},
     "output_type": "execute_result"
    }
   ],
   "source": [
    "model.evaluate(X_test, y_test)"
   ]
  },
  {
   "cell_type": "code",
   "execution_count": 101,
   "metadata": {},
   "outputs": [],
   "source": [
    "y_pred = tf.squeeze(y_pred)"
   ]
  },
  {
   "cell_type": "code",
   "execution_count": 102,
   "metadata": {},
   "outputs": [
    {
     "data": {
      "text/plain": [
       "<tf.Tensor: shape=(), dtype=float32, numpy=1.9895256>"
      ]
     },
     "execution_count": 102,
     "metadata": {},
     "output_type": "execute_result"
    }
   ],
   "source": [
    "mae = tf.metrics.mean_absolute_error(y_true=y_test, y_pred=y_pred)\n",
    "mae"
   ]
  },
  {
   "cell_type": "code",
   "execution_count": 103,
   "metadata": {},
   "outputs": [
    {
     "data": {
      "text/plain": [
       "<tf.Tensor: shape=(), dtype=float32, numpy=4.0247927>"
      ]
     },
     "execution_count": 103,
     "metadata": {},
     "output_type": "execute_result"
    }
   ],
   "source": [
    "mse = tf.metrics.mean_squared_error(y_true=y_test, y_pred=y_pred)\n",
    "mse"
   ]
  },
  {
   "cell_type": "code",
   "execution_count": 104,
   "metadata": {},
   "outputs": [
    {
     "data": {
      "text/plain": [
       "(<tf.Tensor: shape=(10,), dtype=float32, numpy=\n",
       " array([ 68.414734,  72.3249  ,  76.23506 ,  80.14523 ,  84.05539 ,\n",
       "         87.96555 ,  91.87572 ,  95.78589 ,  99.69605 , 103.60622 ],\n",
       "       dtype=float32)>,\n",
       " <tf.Tensor: shape=(10,), dtype=float32, numpy=\n",
       " array([ 68.414734,  72.3249  ,  76.23506 ,  80.14523 ,  84.05539 ,\n",
       "         87.96555 ,  91.87572 ,  95.78589 ,  99.69605 , 103.60622 ],\n",
       "       dtype=float32)>,\n",
       " <tf.Tensor: shape=(10,), dtype=float32, numpy=array([60., 64., 68., 72., 76., 80., 84., 88., 92., 96.], dtype=float32)>)"
      ]
     },
     "execution_count": 104,
     "metadata": {},
     "output_type": "execute_result"
    }
   ],
   "source": [
    "y_pred, tf.squeeze(y_pred), X_test"
   ]
  },
  {
   "cell_type": "code",
   "execution_count": 105,
   "metadata": {},
   "outputs": [],
   "source": [
    "import matplotlib.pyplot as plt\n"
   ]
  },
  {
   "cell_type": "code",
   "execution_count": 106,
   "metadata": {},
   "outputs": [
    {
     "data": {
      "image/png": "[encoded data removed]",
      "text/plain": [
       "<Figure size 1000x600 with 1 Axes>"
      ]
     },
     "metadata": {},
     "output_type": "display_data"
    }
   ],
   "source": [
    "def predictions_graph(X_test=X_test, y_test=y_test, y_pred=y_pred, y_train=y_train, X_train=X_train):\n",
    "  plt.figure(figsize=(10,6))\n",
    "  # Scatter plot for predictions\n",
    "  plt.scatter(X_test, y_pred, label='Predictions values')\n",
    "\n",
    "  # Scatter plot for real values\n",
    "  plt.scatter(X_test, y_test, label='Test values')\n",
    "  plt.scatter(X_train, y_train, label='Train values')\n",
    "  plt.legend()\n",
    "  return plt.show()\n",
    "predictions_graph()"
   ]
  }
 ],
 "metadata": {
  "kernelspec": {
   "display_name": "venv",
   "language": "python",
   "name": "python3"
  },
  "language_info": {
   "codemirror_mode": {
    "name": "ipython",
    "version": 3
   },
   "file_extension": ".py",
   "mimetype": "text/x-python",
   "name": "python",
   "nbconvert_exporter": "python",
   "pygments_lexer": "ipython3",
   "version": "3.11.5"
  }
 },
 "nbformat": 4,
 "nbformat_minor": 2
}
